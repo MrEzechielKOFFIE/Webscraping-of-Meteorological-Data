{
 "cells": [
  {
   "cell_type": "markdown",
   "metadata": {},
   "source": [
    "<h1 align=\"center\"><font></font>Web Scraping - Data Visualization</h1>"
   ]
  },
  {
   "cell_type": "markdown",
   "metadata": {},
   "source": [
    "Membres du groupe:\n",
    "- KOFFIE EZECHIEL\n",
    "- KONE RAYAN\n",
    "- ZAMPOU AZIZ"
   ]
  },
  {
   "cell_type": "code",
   "execution_count": 173,
   "metadata": {},
   "outputs": [],
   "source": [
    "import re\n",
    "import requests\n",
    "import pandas as pd\n",
    "import numpy as np\n",
    "import seaborn as sns\n",
    "from slugify import slugify\n",
    "from ast import literal_eval\n",
    "from bs4 import BeautifulSoup"
   ]
  },
  {
   "cell_type": "markdown",
   "metadata": {},
   "source": [
    "### Partie I"
   ]
  },
  {
   "cell_type": "code",
   "execution_count": 154,
   "metadata": {},
   "outputs": [],
   "source": [
    "def getPays(url):\n",
    "    \n",
    "    req = requests.get(url)\n",
    "    soup = BeautifulSoup(req.text, \"lxml\")\n",
    "    country_link = soup.find(\"ul\", {\"class\": \"portfolio\"})\\\n",
    "                       .findAll(\"li\")\n",
    "    base_url = \"https://www.historique-meteo.net\"\n",
    "    liste = []\n",
    "    for country in country_link:\n",
    "        name = country.find(\"div\", {\"class\": 'item-text'}).text\n",
    "        link = country.find(\"a\", {\"class\": \"hover-wrap fancybox\"})[\"href\"]\n",
    "        liste.append((base_url+link, name))\n",
    "\n",
    "    return liste"
   ]
  },
  {
   "cell_type": "code",
   "execution_count": 155,
   "metadata": {},
   "outputs": [],
   "source": [
    "url =\"https://www.historique-meteo.net/afrique\"\n",
    "data = getPays(url)"
   ]
  },
  {
   "cell_type": "code",
   "execution_count": 156,
   "metadata": {},
   "outputs": [],
   "source": [
    "pays_link = {}\n",
    "pays_link[\"link\"] = [t[0] for t in data]\n",
    "pays_link[\"pays\"] = [t[1] for t in data]\n",
    "pays_link = pd.DataFrame(pays_link)\n",
    "pays_link.to_csv(\"./pays_afrique.csv\")"
   ]
  },
  {
   "cell_type": "code",
   "execution_count": 157,
   "metadata": {},
   "outputs": [],
   "source": [
    "def getRegion(url):\n",
    "    \n",
    "    req = requests.get(url)\n",
    "    soup = BeautifulSoup(req.text, \"lxml\")\n",
    "    base_url = \"https://www.historique-meteo.net\"\n",
    "    region_link = soup.find_all(\"div\", {\"class\": \"list-group\"},\n",
    "                                recursive=True)[1].findAll(\"a\")\n",
    "    liste = []\n",
    "    for region in region_link:\n",
    "        name = region.find(\"b\").text\n",
    "        link = region[\"href\"]\n",
    "        liste.append((base_url+link, name))\n",
    "    return liste"
   ]
  },
  {
   "cell_type": "code",
   "execution_count": 158,
   "metadata": {},
   "outputs": [
    {
     "data": {
      "text/plain": [
       "[('https://www.historique-meteo.net/afrique/cote-d-ivoire/abidjan/',\n",
       "  'Abidjan'),\n",
       " ('https://www.historique-meteo.net/afrique/cote-d-ivoire/affery/', 'Afféry'),\n",
       " ('https://www.historique-meteo.net/afrique/cote-d-ivoire/assinie/',\n",
       "  'Assinie'),\n",
       " ('https://www.historique-meteo.net/afrique/cote-d-ivoire/bondoukou/',\n",
       "  'Bondoukou'),\n",
       " ('https://www.historique-meteo.net/afrique/cote-d-ivoire/bouake/', 'Bouaké'),\n",
       " ('https://www.historique-meteo.net/afrique/cote-d-ivoire/ferkessedougou/',\n",
       "  'Ferkessédougou'),\n",
       " ('https://www.historique-meteo.net/afrique/cote-d-ivoire/gagnoa/', 'Gagnoa'),\n",
       " ('https://www.historique-meteo.net/afrique/cote-d-ivoire/grand-bassam/',\n",
       "  'Grand-Bassam'),\n",
       " ('https://www.historique-meteo.net/afrique/cote-d-ivoire/grand-lahou/',\n",
       "  'Grand-Lahou'),\n",
       " ('https://www.historique-meteo.net/afrique/cote-d-ivoire/jacqueville/',\n",
       "  'Jacqueville'),\n",
       " ('https://www.historique-meteo.net/afrique/cote-d-ivoire/korhogo/',\n",
       "  'Korhogo'),\n",
       " ('https://www.historique-meteo.net/afrique/cote-d-ivoire/odienne/',\n",
       "  'Odienné'),\n",
       " ('https://www.historique-meteo.net/afrique/cote-d-ivoire/parc-national-de-la-comoe/',\n",
       "  'Parc national de la Comoé'),\n",
       " ('https://www.historique-meteo.net/afrique/cote-d-ivoire/parc-national-de-tai/',\n",
       "  'Parc national de Taï'),\n",
       " ('https://www.historique-meteo.net/afrique/cote-d-ivoire/san-pedro/',\n",
       "  'San-Pédro'),\n",
       " ('https://www.historique-meteo.net/afrique/cote-d-ivoire/sassandra/',\n",
       "  'Sassandra'),\n",
       " ('https://www.historique-meteo.net/afrique/cote-d-ivoire/seguela-woroba/',\n",
       "  'Séguéla (Woroba)'),\n",
       " ('https://www.historique-meteo.net/afrique/cote-d-ivoire/tabou/', 'Tabou'),\n",
       " ('https://www.historique-meteo.net/afrique/cote-d-ivoire/yamoussoukro/',\n",
       "  'Yamoussoukro'),\n",
       " ('https://www.historique-meteo.net/afrique/cote-d-ivoire/abengourou/',\n",
       "  'Abengourou'),\n",
       " ('https://www.historique-meteo.net/afrique/cote-d-ivoire/adiake/', 'Adiake'),\n",
       " ('https://www.historique-meteo.net/afrique/cote-d-ivoire/anyama/', 'Anyama'),\n",
       " ('https://www.historique-meteo.net/afrique/cote-d-ivoire/bingerville/',\n",
       "  'Bingerville'),\n",
       " ('https://www.historique-meteo.net/afrique/cote-d-ivoire/daloa/', 'Daloa'),\n",
       " ('https://www.historique-meteo.net/afrique/cote-d-ivoire/man/', 'Man')]"
      ]
     },
     "execution_count": 158,
     "metadata": {},
     "output_type": "execute_result"
    }
   ],
   "source": [
    "url=\"https://www.historique-meteo.net/afrique/cote-d-ivoire\"\n",
    "getRegion(url)"
   ]
  },
  {
   "cell_type": "markdown",
   "metadata": {},
   "source": [
    "### Partie II"
   ]
  },
  {
   "cell_type": "code",
   "execution_count": 159,
   "metadata": {},
   "outputs": [],
   "source": [
    "def getDayData(url):\n",
    "\n",
    "    req = requests.get(url)\n",
    "    soup = BeautifulSoup(req.text, \"lxml\")\n",
    "    day_data = soup.find(\"tbody\").findAll(\"tr\")\n",
    "    label_list = []\n",
    "    data_list = []\n",
    "    for data in day_data:\n",
    "        try : \n",
    "            label = data.find(\"td\").text\n",
    "            data_ = data.find(\"td\", \\\n",
    "                    {\"class\": 'text-center bg-primary'}).text\n",
    "        except:\n",
    "            pass\n",
    "        \n",
    "        data_ = re.sub(\"[ChPa%°km/h]\", \"\", data_)\n",
    "        label_list.append(slugify(label))\n",
    "        data_list.append(data_)\n",
    "\n",
    "        \n",
    "    if 'precipitations' not in label_list:\n",
    "        label_list.insert(4, \"precipitations\")\n",
    "        data_list.insert(4, np.nan)\n",
    "\n",
    "    return label_list[:-1], data_list[:-1]"
   ]
  },
  {
   "cell_type": "code",
   "execution_count": 160,
   "metadata": {},
   "outputs": [
    {
     "data": {
      "text/plain": [
       "(['temperature-maximale',\n",
       "  'temperature-minimale',\n",
       "  'vitesse-du-vent',\n",
       "  'temperature-du-vent',\n",
       "  'precipitations',\n",
       "  'humidite',\n",
       "  'visibilite',\n",
       "  'couverture-nuageuse',\n",
       "  'indice-de-chaleur',\n",
       "  'point-de-rosee',\n",
       "  'pression',\n",
       "  'heure-du-lever-du-soleil',\n",
       "  'heure-du-coucher-du-soleil',\n",
       "  'duree-du-jour'],\n",
       " ['31',\n",
       "  '26',\n",
       "  '20',\n",
       "  '26',\n",
       "  nan,\n",
       "  '77',\n",
       "  '10',\n",
       "  '17',\n",
       "  '36',\n",
       "  '24',\n",
       "  '1012',\n",
       "  '06:32:00',\n",
       "  '18:25:00',\n",
       "  '11:53:0'])"
      ]
     },
     "execution_count": 160,
     "metadata": {},
     "output_type": "execute_result"
    }
   ],
   "source": [
    "url=\"https://www.historique-meteo.net/afrique/cote-d-ivoire/abidjan/2022/01/28/\"\n",
    "getDayData(url)"
   ]
  },
  {
   "cell_type": "markdown",
   "metadata": {},
   "source": [
    "### Partie III"
   ]
  },
  {
   "cell_type": "code",
   "execution_count": 161,
   "metadata": {},
   "outputs": [],
   "source": [
    "def getData(url, years):\n",
    "\n",
    "    region_pays = getRegion(url)\n",
    "    KPI = ['temperature-maximale', 'temperature-minimale',\n",
    "           'vitesse-du-vent', 'temperature-du-vent',\n",
    "           'precipitations', 'humidite', 'visibilite',\n",
    "           'couverture-nuageuse', 'indice-de-chaleur',\n",
    "           'point-de-rosee', 'pression', 'heure-du-lever-du-soleil',\n",
    "           'heure-du-coucher-du-soleil', 'duree-du-jour']\n",
    "    table = {\"date\": [], \"region\": []}\n",
    "    table.update({key: [] for key in KPI})\n",
    "    for year in years:\n",
    "        for item in region_pays:\n",
    "            for month in range(1,13):\n",
    "                for day in range(1,32):\n",
    "                    try:\n",
    "                        day = str(day).zfill(2)\n",
    "                        month = str(month).zfill(2)\n",
    "                        url = item[0]+f\"{year}/{month}/{day}/\"\n",
    "                        print(url)\n",
    "                        data = getDayData(url)\n",
    "                        table[\"date\"].append(url.removeprefix(item[0]))\n",
    "                        table[\"region\"].append(item[1])\n",
    "                        for kpi in data[0]:\n",
    "                            table[kpi].append(data[1][data[0].index(kpi)])\n",
    "                        print(table)\n",
    "                    except:\n",
    "                        continue\n",
    "\n",
    "    table = pd.DataFrame(table)\n",
    "    table[KPI[:-3]] = table[KPI[:-3]].astype(\"float\")\n",
    "    return table"
   ]
  },
  {
   "cell_type": "code",
   "execution_count": null,
   "metadata": {},
   "outputs": [],
   "source": [
    "url = \"https://www.historique-meteo.net/afrique/cote-d-ivoire/\"\n",
    "data_2022 = getData(url, [2022])"
   ]
  },
  {
   "cell_type": "code",
   "execution_count": 186,
   "metadata": {},
   "outputs": [],
   "source": [
    "data_2022.to_csv(\"./meteo_cote_divoire.csv\")"
   ]
  },
  {
   "cell_type": "markdown",
   "metadata": {},
   "source": [
    "### Affichage des moyennes de chacunes des variables"
   ]
  },
  {
   "cell_type": "code",
   "execution_count": 172,
   "metadata": {},
   "outputs": [
    {
     "data": {
      "text/plain": [
       "temperature-maximale      32.956243\n",
       "temperature-minimale      23.411050\n",
       "vitesse-du-vent           12.385635\n",
       "temperature-du-vent       23.411050\n",
       "precipitations             5.927964\n",
       "humidite                  86.176133\n",
       "visibilite                 9.044254\n",
       "couverture-nuageuse       51.063195\n",
       "indice-de-chaleur         36.632486\n",
       "point-de-rosee            22.162697\n",
       "pression                1012.658785\n",
       "dtype: float64"
      ]
     },
     "execution_count": 172,
     "metadata": {},
     "output_type": "execute_result"
    }
   ],
   "source": [
    "data_2022[KPI[:-3]].apply(lambda x: np.mean(x))"
   ]
  },
  {
   "cell_type": "markdown",
   "metadata": {},
   "source": [
    "### Visualisation des données"
   ]
  },
  {
   "cell_type": "code",
   "execution_count": null,
   "metadata": {},
   "outputs": [],
   "source": []
  }
 ],
 "metadata": {
  "interpreter": {
   "hash": "31f2aee4e71d21fbe5cf8b01ff0e069b9275f58929596ceb00d14d90e3e16cd6"
  },
  "kernelspec": {
   "display_name": "Python 3.8.10 64-bit",
   "language": "python",
   "name": "python3"
  },
  "language_info": {
   "codemirror_mode": {
    "name": "ipython",
    "version": 3
   },
   "file_extension": ".py",
   "mimetype": "text/x-python",
   "name": "python",
   "nbconvert_exporter": "python",
   "pygments_lexer": "ipython3",
   "version": "3.9.7"
  },
  "orig_nbformat": 4
 },
 "nbformat": 4,
 "nbformat_minor": 2
}
